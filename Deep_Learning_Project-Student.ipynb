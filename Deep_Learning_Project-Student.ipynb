{
 "cells": [
  {
   "cell_type": "markdown",
   "id": "a64ff744-6734-4e08-8e46-4fe2407bb251",
   "metadata": {},
   "source": [
    "# Final Project - Fundamentals of Deep Learning for NLP and CV\n",
    "\n",
    "Congratulations! This is the final project!\n",
    "\n",
    "\n",
    "## Delivery of Project\n",
    "\n",
    "This jupyter notebook is to be delivered to evaluate your knowledge on the Deep Learning for NLP and CV module at Rumos, before date agreed with the professor. Please add your name and e-mail next.\n",
    "\n",
    "**Student Name**: Nuno Pereira  \n",
    "**E-mail**: pereiranuno88@gmail.com\n",
    "\n",
    "\n",
    "## Instructions\n",
    "\n",
    "\n",
    "\n",
    "\n",
    "## Details on the dataset\n",
    "\n",
    "\n",
    "\n",
    "\n",
    "\n",
    "## Plagiarism\n",
    "\n",
    "Always remember that you are here to learn. Discussions on the final project are highly incentivised but please do not share your work. The struggle to solve the problems is needed in order to become a true Data Scientist. By allowing others to use your code you are making the world a worse place: you are not truly helping your colleague, and you are not promoting discussions on the topic.\n",
    "\n",
    "In case you need help, or just want to discuss some project-related topics, reach out to me either through email or through a Slack direct message."
   ]
  },
  {
   "cell_type": "markdown",
   "id": "735fa7de-7c3d-4e0b-82bd-18ac23860c14",
   "metadata": {},
   "source": [
    "# Objectives\n",
    "\n",
    "Please solve the following exercises by creating a markdown cell with **# EXERCISE >>NUMBER<<**  just before you solve it (you can use the number of cells you need after that).\n",
    "\n",
    "## Evaluation\n",
    "Points (of a total of 100%):\n",
    "1. 20%  \n",
    "2. 20%  \n",
    "3. 20%  \n",
    "4. 20%  \n",
    "5. 20%  \n",
    "\n",
    "Final 5% for additional effort and conclusions beyond what was asked (give your _extra mile_).\n",
    "\n",
    "## Important notes\n",
    "1. Data Science is all about *flow*. Keep your analysis work-flow consistent.  \n",
    "2. When it is requested you to *describe* something, please be 1. skeptic, 2. objective, and 3. succinct! \n",
    "3. If you don't know: search, invent, study, but please don't leave any exercise blank.\n",
    "\n",
    "### Good luck!\n",
    "# 3, 2, 1, GO! GO! GO!"
   ]
  },
  {
   "cell_type": "markdown",
   "id": "6e7e17bd-3d86-4019-b609-4e93b0884253",
   "metadata": {},
   "source": [
    "### Import libraries"
   ]
  },
  {
   "cell_type": "markdown",
   "id": "55235f61",
   "metadata": {},
   "source": [
    "---"
   ]
  },
  {
   "cell_type": "code",
   "execution_count": 19,
   "id": "1dc0c7d4-bfb4-4c64-82c3-aef54bda1750",
   "metadata": {},
   "outputs": [],
   "source": [
    "import pandas as pd\n",
    "import torch\n",
    "import torchvision\n",
    "import torchvision.transforms as transforms\n",
    "import torch.nn as nn\n",
    "import torch.nn.functional as F\n",
    "import matplotlib.pyplot as plt\n",
    "import numpy as np\n"
   ]
  },
  {
   "cell_type": "markdown",
   "id": "fdfe6119",
   "metadata": {},
   "source": [
    "### Constants"
   ]
  },
  {
   "cell_type": "markdown",
   "id": "ced542ad",
   "metadata": {},
   "source": [
    "---"
   ]
  },
  {
   "cell_type": "code",
   "execution_count": 3,
   "id": "4e85922b",
   "metadata": {},
   "outputs": [],
   "source": [
    "EPOCHS= 10\n",
    "RANDOM_SEED = 42"
   ]
  },
  {
   "cell_type": "markdown",
   "id": "c887fbce",
   "metadata": {},
   "source": [
    "---"
   ]
  },
  {
   "cell_type": "code",
   "execution_count": 4,
   "id": "ea91d024-dd84-4c29-a975-d0791c3f2111",
   "metadata": {},
   "outputs": [
    {
     "data": {
      "text/plain": [
       "<torch._C.Generator at 0x1e45f006690>"
      ]
     },
     "execution_count": 4,
     "metadata": {},
     "output_type": "execute_result"
    }
   ],
   "source": [
    "# Global variables for reproducibility\n",
    "torch.manual_seed(RANDOM_SEED)"
   ]
  },
  {
   "cell_type": "markdown",
   "id": "eeb49e89-3f99-4fdb-ad90-82383b506124",
   "metadata": {},
   "source": [
    "### Load Data"
   ]
  },
  {
   "cell_type": "markdown",
   "id": "cc101e60-60d5-4765-b511-a21c6c816637",
   "metadata": {},
   "source": [
    "### CIFAR-10Dataset\n",
    "\n",
    "The CIFAR-10 dataset consists of 60000 32x32 colour images in 10 classes, with 6000 images per class. There are 50000 training images and 10000 test images.\n",
    "\n",
    "The dataset is divided into five training batches and one test batch, each with 10000 images. The test batch contains exactly 1000 randomly-selected images from each class. The training batches contain the remaining images in random order, but some training batches may contain more images from one class than another. Between them, the training batches contain exactly 5000 images from each class. \n",
    "\n",
    "<img src=\"images/cifar10.png\" width=\"400\" height=\"100\">\n",
    "\n",
    "[CIFAR 10](https://www.cs.toronto.edu/~kriz/cifar.html)"
   ]
  },
  {
   "cell_type": "code",
   "execution_count": 5,
   "id": "56e25ea8-b589-45f3-80d8-78477a49d8fa",
   "metadata": {},
   "outputs": [],
   "source": [
    "transform = transforms.Compose(\n",
    "    [\n",
    "        transforms.Resize((32,32)),\n",
    "        transforms.ToTensor(),\n",
    "        transforms.Normalize((0.5, 0.5, 0.5), (0.5, 0.5, 0.5))\n",
    "    ])\n",
    "\n",
    "batch_size = 64\n",
    "\n",
    "trainset = torchvision.datasets.CIFAR10(root='./data', train=True,\n",
    "                                        download=True, transform=transform)\n",
    "trainloader = torch.utils.data.DataLoader(trainset, batch_size=batch_size,\n",
    "                                          shuffle=True, num_workers=2)\n",
    "\n",
    "testset = torchvision.datasets.CIFAR10(root='./data', train=False,\n",
    "                                       download=True, transform=transform)\n",
    "testloader = torch.utils.data.DataLoader(testset, batch_size=batch_size,\n",
    "                                         shuffle=False, num_workers=2)\n",
    "\n",
    "classes = ('plane', 'car', 'bird', 'cat',\n",
    "           'deer', 'dog', 'frog', 'horse', 'ship', 'truck')"
   ]
  },
  {
   "cell_type": "markdown",
   "id": "57edfa7c-ac43-4e7e-adfc-1d9728807a3a",
   "metadata": {},
   "source": [
    "### Twitter Dataset\n",
    "\n",
    "[Source - huggingface.co/datasets - carblacac/twitter-sentiment-analysis](https://huggingface.co/datasets/carblacac/twitter-sentiment-analysis)"
   ]
  },
  {
   "cell_type": "code",
   "execution_count": 6,
   "id": "27ddbad3-7822-4ff9-b6d8-cb2e85214f34",
   "metadata": {},
   "outputs": [
    {
     "data": {
      "text/html": [
       "<div>\n",
       "<style scoped>\n",
       "    .dataframe tbody tr th:only-of-type {\n",
       "        vertical-align: middle;\n",
       "    }\n",
       "\n",
       "    .dataframe tbody tr th {\n",
       "        vertical-align: top;\n",
       "    }\n",
       "\n",
       "    .dataframe thead th {\n",
       "        text-align: right;\n",
       "    }\n",
       "</style>\n",
       "<table border=\"1\" class=\"dataframe\">\n",
       "  <thead>\n",
       "    <tr style=\"text-align: right;\">\n",
       "      <th></th>\n",
       "      <th>target</th>\n",
       "      <th>text</th>\n",
       "    </tr>\n",
       "  </thead>\n",
       "  <tbody>\n",
       "    <tr>\n",
       "      <th>0</th>\n",
       "      <td>target,text</td>\n",
       "      <td>NaN</td>\n",
       "    </tr>\n",
       "    <tr>\n",
       "      <th>1</th>\n",
       "      <td>0,Starting  back at work today   Looks like it...</td>\n",
       "      <td>NaN</td>\n",
       "    </tr>\n",
       "    <tr>\n",
       "      <th>2</th>\n",
       "      <td>1,Sugar levels dropping... munchies setting in...</td>\n",
       "      <td>NaN</td>\n",
       "    </tr>\n",
       "    <tr>\n",
       "      <th>3</th>\n",
       "      <td>1,@karineb22 yeah!!! have a great summer break!</td>\n",
       "      <td>NaN</td>\n",
       "    </tr>\n",
       "    <tr>\n",
       "      <th>4</th>\n",
       "      <td>1,hannah montana was very good.  now going to ...</td>\n",
       "      <td>NaN</td>\n",
       "    </tr>\n",
       "  </tbody>\n",
       "</table>\n",
       "</div>"
      ],
      "text/plain": [
       "                                              target  text\n",
       "0                                        target,text   NaN\n",
       "1  0,Starting  back at work today   Looks like it...   NaN\n",
       "2  1,Sugar levels dropping... munchies setting in...   NaN\n",
       "3   1,@karineb22 yeah!!! have a great summer break!    NaN\n",
       "4  1,hannah montana was very good.  now going to ...   NaN"
      ]
     },
     "execution_count": 6,
     "metadata": {},
     "output_type": "execute_result"
    }
   ],
   "source": [
    "twitter_df = pd.read_csv(\"data/twitter.csv\", sep=\"\\t\", header=None, names=[\"target\", \"text\"])\n",
    "twitter_df.head()"
   ]
  },
  {
   "cell_type": "code",
   "execution_count": 7,
   "id": "77a58143-f218-4674-bca5-3f79d9115e18",
   "metadata": {},
   "outputs": [
    {
     "data": {
      "text/plain": [
       "(149986, 2)"
      ]
     },
     "execution_count": 7,
     "metadata": {},
     "output_type": "execute_result"
    }
   ],
   "source": [
    "twitter_df.shape"
   ]
  },
  {
   "cell_type": "markdown",
   "id": "bdbc16e8-b519-4e20-8d9d-0d0a81d58474",
   "metadata": {},
   "source": [
    "# EXERCISE 1 - Use CIFAR10 Dataset\n",
    "\n",
    "```classes = ('plane', 'car', 'bird', 'cat', 'deer', 'dog', 'frog', 'horse', 'ship', 'truck')```\n",
    "\n",
    "- Build a simple Neural Network without using convolutional layers to predict the image class\n",
    "    - No need to configure the optimization, loss function or predict yet. Only implement the NN architecture as ```class NeuralNetwork(nn.Module)```\n",
    "- Explain your choices for the model architecture e.g., activation layer, input and output"
   ]
  },
  {
   "cell_type": "markdown",
   "id": "9c618e3d",
   "metadata": {},
   "source": [
    "---"
   ]
  },
  {
   "cell_type": "code",
   "execution_count": 8,
   "id": "c2d42299",
   "metadata": {},
   "outputs": [],
   "source": [
    "class NeuralNetwork(nn.Module):\n",
    "    def __init__(self):\n",
    "        super().__init__()\n",
    "        \n",
    "        # Primeira camada 3 canais (RGB) *  32x32 pixels : 3072 → 768 neurónios\n",
    "        self.hidden1 = nn.Linear(3*32*32, 768)\n",
    "        \n",
    "        # Segunda camada oculta: 768 → 384 neurónios\n",
    "        self.hidden2 = nn.Linear(768, 384)\n",
    "        \n",
    "        # Terceira camada oculta: 384 → 192 neurónios\n",
    "        self.hidden3 = nn.Linear(384, 192)\n",
    "        \n",
    "        # Camada de saída: 192 → 10 neurónios (correspondentes às 10 classes do CIFAR-10)\n",
    "        self.out = nn.Linear(192, 10)\n",
    "        \n",
    "        # Dropout com probabilidade de 20% para evitar overfitting\n",
    "        self.dropout = nn.Dropout(0.2)\n",
    "\n",
    "    def forward(self, x):\n",
    "        # Achatar a imagem (flatten) para vetor 1D, ada imagem passa a ser um vetor com 3072 números, pronto para entrar numa camada Linear.\n",
    "        x=x.view(-1,32*32*3)\n",
    "        \n",
    "        # Passagem pela primeira camada com ReLU e Dropout\n",
    "        x = F.relu(self.hidden1(x))\n",
    "        x = self.dropout(x)\n",
    "        \n",
    "        # Segunda camada com ReLU e Dropout\n",
    "        x = F.relu(self.hidden2(x))\n",
    "        x = self.dropout(x)\n",
    "        \n",
    "        # Terceira camada com ReLU\n",
    "        x = F.relu(self.hidden3(x))\n",
    "        \n",
    "        x = self.out(x)\n",
    "        \n",
    "        return x\n"
   ]
  },
  {
   "cell_type": "markdown",
   "id": "1597c514",
   "metadata": {},
   "source": [
    "A rede neural construída é composta por três camadas ocultas e uma camada de saída, desenvolvida para classificar imagens do conjunto de dados CIFAR-10. Como as imagens têm dimensão 32x32 píxeis com 3 canais (RGB), cada imagem é composta por um total de 3072 píxeis. Antes de ser processada pela rede, cada imagem é achatada e  transformando-se num vetor unidimensional com 3072 elementos, o que permite a sua passagem por camadas lineares.\n",
    "\n",
    "A primeira camada oculta da rede transforma este vetor de 3072 valores num vetor de 768 neurónios, ao qual é aplicada a função de ativação ReLU para introduzir não-linearidade. Em seguida, é aplicado um Dropout de 20%, que desativa aleatoriamente uma parte dos neurónios durante o treino, reduzindo o risco de overfitting. Esta combinação (Linear → ReLU → Dropout) repete-se na segunda camada oculta (768 → 384 neurónios) e na terceira camada oculta (384 → 192 neurónios), mantendo a regularização e promovendo uma redução progressiva da dimensionalidade.\n",
    "\n",
    "Por fim, a camada de saída converte os 192 neurónios da última camada oculta num vetor de 10 saídas, correspondentes às 10 classes do CIFAR-10 ('plane', 'car', 'bird', 'cat', 'deer', 'dog', 'frog', 'horse', 'ship', 'truck')."
   ]
  },
  {
   "cell_type": "markdown",
   "id": "8bae2fc3",
   "metadata": {},
   "source": [
    "---"
   ]
  },
  {
   "cell_type": "markdown",
   "id": "5a45d8d8-c9bf-49c1-a819-56265ac8842c",
   "metadata": {},
   "source": [
    "# Exercise 2 - Use CIFAR10 Dataset\n",
    "- Set the optimizer, loss function and train your model\n",
    "    - Explain your choices for the optimizer and loss function\n",
    "- Check the performance of your model\n",
    "    - Chose the metric and explain your choice"
   ]
  },
  {
   "cell_type": "markdown",
   "id": "f42acc51",
   "metadata": {},
   "source": [
    "---"
   ]
  },
  {
   "cell_type": "code",
   "execution_count": 9,
   "id": "8fd6569d",
   "metadata": {},
   "outputs": [],
   "source": [
    "# Instanciar o modelo\n",
    "model = NeuralNetwork()\n",
    "\n",
    "device = torch.device(\"cuda\" if torch.cuda.is_available() else \"cpu\")\n",
    "model.to(device)\n",
    "\n",
    "# Definir a função de perda e o otimizador\n",
    "criterion = nn.CrossEntropyLoss()\n",
    "optimizer = torch.optim.Adam(model.parameters(), lr=0.001)"
   ]
  },
  {
   "cell_type": "markdown",
   "id": "1629293e",
   "metadata": {},
   "source": [
    "Nesta secção, é feita a preparação do modelo para o processo de treino.\n",
    "\n",
    "Primeiramente, a classe NeuralNetwork é instanciada, criando-se um objeto chamado model que representa a arquitetura da rede neural definida anteriormente.\n",
    "\n",
    "De seguida, é determinado o dispositivo onde o modelo será treinado. Utiliza-se a função torch.device(\"cuda\" if torch.cuda.is_available() else \"cpu\"), que verifica automaticamente se existe uma placa gráfica (GPU) compatível com CUDA disponível. Se existir, o modelo será treinado na GPU, o que acelera significativamente o processo; caso contrário, o treino decorre no processador (CPU).\n",
    "\n",
    "\n",
    "Depois, define-se a função de perda (loss function), que neste caso é a CrossEntropyLoss. Esta função foi escolhida tendo em conta que temos um problema de classificação multiclasse, como é o caso do CIFAR-10.\n",
    "\n",
    "Por fim, é criado o otimizador, que neste caso é o Adam. É inicializado com os parâmetros do modelo (model.parameters()) e com uma taxa de aprendizagem (learning rate) de 0.001, que controla o quão rapidamente os pesos da rede são ajustados durante o treino."
   ]
  },
  {
   "cell_type": "code",
   "execution_count": 11,
   "id": "c0863bdc",
   "metadata": {},
   "outputs": [],
   "source": [
    "def train_model(model, dataloader, optimizer, loss_fn, device):\n",
    "    model.train()\n",
    "    total_loss = 0\n",
    "\n",
    "    for batch_idx, (inputs, targets) in enumerate(dataloader):\n",
    "        inputs, targets = inputs.to(device), targets.to(device)\n",
    "\n",
    "        outputs = model(inputs)\n",
    "        loss = loss_fn(outputs, targets)\n",
    "\n",
    "        optimizer.zero_grad()\n",
    "        loss.backward()\n",
    "        optimizer.step()\n",
    "\n",
    "        total_loss += loss.item()\n",
    "\n",
    "    average_loss = total_loss / len(dataloader)\n",
    "    return average_loss"
   ]
  },
  {
   "cell_type": "markdown",
   "id": "10718047",
   "metadata": {},
   "source": [
    "A função train_one_epoch  recebe como argumentos o modelo, o dataloader (que fornece os dados em lotes), o otimizador, a função de perda e o dispositivo onde os cálculos devem ser realizados (CPU ou GPU).\n",
    "\n",
    "O primeiro passo é colocar o modelo em modo de treino através de model.train(). Este modo ativa componentes como o Dropout, caso existam, garantindo que o comportamento do modelo é o apropriado para a fase de aprendizagem.\n",
    "\n",
    "De seguida, é inicializada uma variável total_loss que irá acumular o valor da perda (erro) ao longo de todos os lotes processados.\n",
    "\n",
    "O ciclo principal da função percorre o dataloader, recebendo os dados (inputs) e os rótulos correspondentes (targets) em cada iteração. \n",
    "\n",
    "As previsões são comparadas com as labels reais através da função de perda (loss_fn), que calcula o erro cometido.\n",
    "\n",
    "Antes de atualizar os pesos do modelo, é necessário limpar os gradientes anteriores com optimizer.zero_grad(). \n",
    "Depois disso, realiza-se a propagação para trás (backward pass), onde os gradientes do erro em relação aos pesos são calculados com loss.backward(). Finalmente, o otimizador atualiza os pesos da rede com optimizer.step().\n",
    "\n",
    "\n",
    "No final  a função calcula a perda média dividindo a perda acumulada pelo número total de lotes, e devolve esse valor."
   ]
  },
  {
   "cell_type": "code",
   "execution_count": 12,
   "id": "1078b0f4",
   "metadata": {},
   "outputs": [],
   "source": [
    "def evaluate_model(model, dataloader, loss_fn, device):\n",
    "    model.eval()\n",
    "    total_loss = 0\n",
    "    total_correct = 0\n",
    "    total_samples = 0\n",
    "\n",
    "    with torch.no_grad():\n",
    "        for inputs, targets in dataloader:\n",
    "            inputs, targets = inputs.to(device), targets.to(device)\n",
    "\n",
    "            outputs = model(inputs)\n",
    "            loss = loss_fn(outputs, targets)\n",
    "            total_loss += loss.item()\n",
    "\n",
    "            predictions = outputs.argmax(dim=1)\n",
    "            total_correct += (predictions == targets).sum().item()\n",
    "            total_samples += targets.size(0)\n",
    "\n",
    "    avg_loss = total_loss / len(dataloader)\n",
    "    accuracy = 100 * total_correct / total_samples\n",
    "    return avg_loss, accuracy\n"
   ]
  },
  {
   "cell_type": "markdown",
   "id": "4e32e005",
   "metadata": {},
   "source": [
    "A função evaluate_model serve para avaliar o desempenho do modelo sobre o conjunto de dados. Esta função recebe como argumentos o modelo a avaliar, o dataloader com os dados a testar, a função de perda utilizada e o dispositivo onde os cálculos devem ser realizados (CPU ou GPU).\n",
    "\n",
    "O  modelo é colocado em modo de avaliação com model.eval(). Esta instrução garante que o modelo se comporta corretamente nesta fase, desativando por exemplo camadas como o Dropout, que só são úteis durante o treino.\n",
    "\n",
    "São depois inicializadas três variáveis: total_loss, para acumular o valor total da perda; total_correct, que conta quantas previsões foram corretas; e total_samples, que regista o número total de amostras avaliadas.\n",
    "\n",
    "O bloco with torch.no_grad() é utilizado para garantir que o PyTorch não calcula nem guarda gradientes durante esta fase, o que melhora o desempenho e reduz o uso de memória, já que não há necessidade de retropropagação nesta etapa.\n",
    "\n",
    "O ciclo for percorre todos os lotes de dados no dataloader. Para cada lote, os dados (inputs) e os rótulos verdadeiros (targets) são enviados para o dispositivo apropriado (GPU ou CPU).\n",
    "\n",
    "\n",
    "As previsões são depois convertidas nas classes previstas pelo modelo, utilizando argmax(dim=1), que seleciona o índice com maior valor de saída (ou seja, a classe mais provável). A função compara estas previsões com os rótulos verdadeiros para contar quantas previsões foram corretas, incrementando total_correct. O número de amostras do lote é igualmente somado ao contador total_samples.\n",
    "\n",
    "Após o ciclo, é calculada a perda média, dividindo o valor total da perda pelo número de lotes (len(dataloader)). A métrica Accuracy  é calculada como a percentagem de previsões corretas em relação ao total de amostras avaliadas.\n"
   ]
  },
  {
   "cell_type": "code",
   "execution_count": 13,
   "id": "6f5f97e2",
   "metadata": {},
   "outputs": [],
   "source": [
    "def train_and_evaluate(model, trainloader, testloader, optimizer, criterion, device, epochs=5):\n",
    "    for epoch in range(epochs):\n",
    "        print(f\"Epoch {epoch + 1}/{epochs}\")\n",
    "\n",
    "        train_loss = train_model(model, trainloader, optimizer, criterion, device)\n",
    "        val_loss, val_acc = evaluate_model(model, testloader, criterion, device)\n",
    "\n",
    "        print(f\"  → Train Loss: {train_loss:.4f}\")\n",
    "        print(f\"  → Validation Loss: {val_loss:.4f} | Accuracy: {val_acc:.2f}%\\n\")\n",
    "\n",
    "    print(\"Training completed!\")"
   ]
  },
  {
   "cell_type": "code",
   "execution_count": 14,
   "id": "20c46036",
   "metadata": {},
   "outputs": [
    {
     "name": "stdout",
     "output_type": "stream",
     "text": [
      "Epoch 1/10\n",
      "  → Train Loss: 1.7089\n",
      "  → Validation Loss: 1.5723 | Accuracy: 43.62%\n",
      "\n",
      "Epoch 2/10\n",
      "  → Train Loss: 1.5309\n",
      "  → Validation Loss: 1.4617 | Accuracy: 48.73%\n",
      "\n",
      "Epoch 3/10\n",
      "  → Train Loss: 1.4471\n",
      "  → Validation Loss: 1.4188 | Accuracy: 49.66%\n",
      "\n",
      "Epoch 4/10\n",
      "  → Train Loss: 1.3836\n",
      "  → Validation Loss: 1.3938 | Accuracy: 50.79%\n",
      "\n",
      "Epoch 5/10\n",
      "  → Train Loss: 1.3241\n",
      "  → Validation Loss: 1.3730 | Accuracy: 51.66%\n",
      "\n",
      "Epoch 6/10\n",
      "  → Train Loss: 1.2799\n",
      "  → Validation Loss: 1.3672 | Accuracy: 52.35%\n",
      "\n",
      "Epoch 7/10\n",
      "  → Train Loss: 1.2375\n",
      "  → Validation Loss: 1.3327 | Accuracy: 53.65%\n",
      "\n",
      "Epoch 8/10\n",
      "  → Train Loss: 1.1913\n",
      "  → Validation Loss: 1.3316 | Accuracy: 53.27%\n",
      "\n",
      "Epoch 9/10\n",
      "  → Train Loss: 1.1594\n",
      "  → Validation Loss: 1.3212 | Accuracy: 54.26%\n",
      "\n",
      "Epoch 10/10\n",
      "  → Train Loss: 1.1215\n",
      "  → Validation Loss: 1.3357 | Accuracy: 54.26%\n",
      "\n",
      "Training completed!\n"
     ]
    }
   ],
   "source": [
    "train_and_evaluate(model, trainloader, testloader, optimizer, criterion, device, EPOCHS)"
   ]
  },
  {
   "cell_type": "markdown",
   "id": "33040170",
   "metadata": {},
   "source": [
    "A variável epochs define o número total de iterações a realizar. O ciclo for itera esse número de vezes, controlando a progressão do treino. A cada iteração , imprime-se no ecrã o número da epoch atual.\n",
    "\n",
    "Durante cada iteração, são chamadas duas funções principais:\n",
    "\n",
    "   -train_model(...): esta função realiza o treino do modelo com base nos dados de treino (trainloader).\n",
    "\n",
    "   -evaluate_model(...): após o treino, esta função avalia o desempenho do modelo no conjunto de teste (testloader)."
   ]
  },
  {
   "cell_type": "markdown",
   "id": "b6d24e55",
   "metadata": {},
   "source": [
    "Ao longo das iterações  observa-se uma redução progressiva da perda de treino, o que indica que o modelo está a conseguir ajustar-se aos dados de treino e a aprender padrões. A perda de treino começa em 0.82 na primeira iteração e desce para 0.69 na última, o que é um comportamento esperado e positivo.\n",
    "\n",
    "No entanto, a perda de validação mantém-se praticamente estável e relativamente alta, a oscilar entre 1.41 e 1.53, sem mostrar sinais claros de melhoria. Isto, aliado a uma Accuracy  também estável, entre 54.5% e 55.9%, sugere que o modelo atingiu um patamar de desempenho limitado com a arquitetura atual e que pode estar a começar a sobreajustar-se (overfitting) aos dados de treino.\n",
    "\n",
    "\n",
    "O modelo está a aprender durante o treino, mas não está a generalizar suficientemente bem para os dados de teste. A arquitetura e os hiperparâmetros permitem um desempenho razoável, com uma accuracy próxima dos 55%, o que está alinhado com redes densas simples (sem camada de convolução). "
   ]
  },
  {
   "cell_type": "code",
   "execution_count": 15,
   "id": "5ab98b8c",
   "metadata": {},
   "outputs": [],
   "source": [
    "def evaluate_by_class(model, dataloader, loss_fn, device, class_names):\n",
    "    # Coloca o modelo em modo de avaliação (desativa Dropout, etc.)\n",
    "    model.eval()\n",
    "\n",
    "    total_loss = 0  # Acumula a perda total\n",
    "    correct_per_class = [0 for _ in range(len(class_names))]  # Contador de previsões corretas por classe\n",
    "    total_per_class = [0 for _ in range(len(class_names))]    # Total de amostras por classe\n",
    "\n",
    "    # Desativa o cálculo de gradientes (não é necessário na avaliação)\n",
    "    with torch.no_grad():\n",
    "        for inputs, targets in dataloader:\n",
    "            inputs, targets = inputs.to(device), targets.to(device)\n",
    "\n",
    "            # Forward pass\n",
    "            outputs = model(inputs)\n",
    "            loss = loss_fn(outputs, targets)\n",
    "            total_loss += loss.item()\n",
    "\n",
    "            # Aplica Softmax apenas para obter probabilidades (não afeta as previsões)\n",
    "            probs = F.softmax(outputs, dim=1)\n",
    "            preds = torch.argmax(probs, dim=1)  # Previsão = índice da maior probabilidade\n",
    "\n",
    "            # Conta as previsões corretas por classe\n",
    "            for i in range(len(targets)):\n",
    "                label = targets[i].item()\n",
    "                prediction = preds[i].item()\n",
    "                total_per_class[label] += 1\n",
    "                if prediction == label:\n",
    "                    correct_per_class[label] += 1\n",
    "\n",
    "    # Calcula a perda média global\n",
    "    avg_loss = total_loss / len(dataloader)\n",
    "\n",
    "    # Mostra os resultados por classe\n",
    "    print(f\"\\n Avaliação por classe:\")\n",
    "    for i, class_name in enumerate(class_names):\n",
    "        if total_per_class[i] > 0:\n",
    "            acc = 100 * correct_per_class[i] / total_per_class[i]\n",
    "            print(f\"  Classe '{class_name}': {acc:.2f}% ({correct_per_class[i]} / {total_per_class[i]})\")\n",
    "        else:\n",
    "            print(f\"  Classe '{class_name}': sem dados\")\n",
    "\n",
    "    # Acurácia geral\n",
    "    overall_accuracy = 100 * sum(correct_per_class) / sum(total_per_class)\n",
    "    print(f\"\\n Global Accuracy: {overall_accuracy:.2f}%\")\n",
    "    print(f\" Average Loss: {avg_loss:.4f}\")\n"
   ]
  },
  {
   "cell_type": "markdown",
   "id": "a69aa0d0",
   "metadata": {},
   "source": [
    "A função evaluate_by_class tem como objetivo avaliar o desempenho de classificação do modelo por classe, ou seja, determinar a capacidade de classificação individual de cadadas classes, além de calcular.\n",
    "\n",
    "O processo começa por colocar o modelo em modo de avaliação com model.eval(), o que garante que camadas como Dropout ou BatchNorm se comportem corretamente durante a fase de teste. Em seguida, são criadas duas listas: uma para contar o número de previsões corretas por classe e outra para contabilizar o total de amostras avaliadas por classe.\n",
    "\n",
    "Durante a avaliação, utiliza-se o contexto torch.no_grad() para desativar o cálculo de gradientes, o que reduz o uso de memória e acelera o processo, uma vez que não há necessidade de retropropagação. O modelo percorre o conjunto de dados (dataloader) e, para cada batch, realiza a passagem para a frente (forward pass) para gerar as previsões. A perda é calculada usando a função de custo (loss_fn) e somada à perda total.\n",
    "\n",
    "De seguida, aplica-se a função Softmax para converter as saídas do modelo em probabilidades (embora isto seja apenas para interpretação). \n",
    "\n",
    "\n"
   ]
  },
  {
   "cell_type": "code",
   "execution_count": 16,
   "id": "9c53c855",
   "metadata": {},
   "outputs": [
    {
     "name": "stdout",
     "output_type": "stream",
     "text": [
      "\n",
      " Avaliação por classe:\n",
      "  Classe 'plane': 62.20% (622 / 1000)\n",
      "  Classe 'car': 68.60% (686 / 1000)\n",
      "  Classe 'bird': 36.90% (369 / 1000)\n",
      "  Classe 'cat': 29.00% (290 / 1000)\n",
      "  Classe 'deer': 39.50% (395 / 1000)\n",
      "  Classe 'dog': 51.70% (517 / 1000)\n",
      "  Classe 'frog': 68.00% (680 / 1000)\n",
      "  Classe 'horse': 60.40% (604 / 1000)\n",
      "  Classe 'ship': 68.60% (686 / 1000)\n",
      "  Classe 'truck': 57.70% (577 / 1000)\n",
      "\n",
      " Global Accuracy: 54.26%\n",
      " Average Loss: 1.3357\n"
     ]
    }
   ],
   "source": [
    "evaluate_by_class(model, testloader, criterion, device, classes)"
   ]
  },
  {
   "cell_type": "markdown",
   "id": "fafa443c",
   "metadata": {},
   "source": [
    "Com base nos resultados da avaliação por classe, é possível observar que o desempenho do modelo treinado sobre o conjunto CIFAR-10 não é uniforme entre as diferentes categorias. A precisão global do modelo é de 54,71%, o que representa um desempenho razoável tendo em conta que se trata de uma rede relativamente simples. A perda média de 1.3194 reforça a ideia de que o modelo ainda comete erros significativos, embora já consiga aprender padrões úteis.\n",
    "\n",
    "Algumas classes, como 'ship', 'frog', 'car' e 'plane', apresentam previsões superiores a 60%, o que demonstra que o modelo consegue reconhecer bem objetos com formas mais distintas e características visuais marcantes. Por outro lado, classes como 'dog' (34,9%) e 'bird' (39,8%) revelam desempenhos mais fracos, o que pode dever-se à maior complexidade visual destas imagens ou à semelhança entre categorias, como por exemplo entre cães e gatos, ou aves e outros animais.\n",
    "\n",
    "Este padrão sugere que o modelo tem maior facilidade em distinguir veículos (como 'ship', 'truck' ou 'car') do que animais.\n",
    "\n",
    "Em suma, o modelo apresenta resultado razoável, mas desempenho inconsistente entre classes, destacando a importância de se aplicar estratégias adicionais para melhorar a capacidade de generalização, sobretudo em classes visualmente mais complexas."
   ]
  },
  {
   "cell_type": "code",
   "execution_count": null,
   "id": "3b55a936",
   "metadata": {},
   "outputs": [],
   "source": [
    "def show_predictions(model, dataloader, class_names, device, num_images=20):\n",
    "    model.eval()\n",
    "    images_shown = 0\n",
    "    plt.figure(figsize=(15, 8))\n",
    "\n",
    "    with torch.no_grad():\n",
    "        for inputs, labels in dataloader:\n",
    "            inputs, labels = inputs.to(device), labels.to(device)\n",
    "            outputs = model(inputs)\n",
    "            preds = torch.argmax(outputs, dim=1)\n",
    "\n",
    "            for i in range(len(inputs)):\n",
    "                if images_shown >= num_images:\n",
    "                    break\n",
    "\n",
    "                image = inputs[i].cpu().permute(1, 2, 0)  # [C, H, W] → [H, W, C]\n",
    "                image = image * 0.5 + 0.5  # desfaz a normalização (-1 a 1 → 0 a 1)\n",
    "\n",
    "                plt.subplot(4, 5, images_shown + 1)\n",
    "                plt.imshow(image)\n",
    "                pred_label = class_names[preds[i]]\n",
    "                true_label = class_names[labels[i]]\n",
    "                color = 'green' if preds[i] == labels[i] else 'red'\n",
    "                plt.title(f\"P: {pred_label}\\nV: {true_label}\", color=color, fontsize=9)\n",
    "                plt.axis('off')\n",
    "                images_shown += 1\n",
    "\n",
    "            if images_shown >= num_images:\n",
    "                break\n",
    "\n",
    "    plt.suptitle(\"Previsões do Modelo (P = Previsto, V = Verdadeiro)\", fontsize=14)\n",
    "    plt.tight_layout()\n",
    "    plt.show()"
   ]
  },
  {
   "cell_type": "code",
   "execution_count": 21,
   "id": "0c81cc70",
   "metadata": {},
   "outputs": [
    {
     "data": {
      "image/png": "[encoded data removed]",
      "text/plain": [
       "<Figure size 1500x800 with 20 Axes>"
      ]
     },
     "metadata": {},
     "output_type": "display_data"
    }
   ],
   "source": [
    "show_predictions(model, testloader, classes, device, num_images=20)"
   ]
  },
  {
   "cell_type": "markdown",
   "id": "7be3e25e",
   "metadata": {},
   "source": [
    "---"
   ]
  },
  {
   "cell_type": "markdown",
   "id": "347e4040-d39a-44e4-a93d-0d6d680aed54",
   "metadata": {},
   "source": [
    "# Exercise 3 - Use CIFAR10 Dataset\n",
    "- Same as Exercise 1 but now add Convolutional Layers\n",
    "- Explain your choices for the model architecture e.g., activation layer, input and output"
   ]
  },
  {
   "cell_type": "markdown",
   "id": "c194632a",
   "metadata": {},
   "source": [
    "---"
   ]
  },
  {
   "cell_type": "code",
   "execution_count": 18,
   "id": "001d349a",
   "metadata": {},
   "outputs": [],
   "source": [
    "class CNNModelConv(nn.Module):\n",
    "    def __init__(self):\n",
    "        super().__init__()\n",
    "        \n",
    "        # Bloco convolucional 1\n",
    "        self.conv1 = nn.Conv2d(in_channels=3, out_channels=32, kernel_size=3, padding=1)\n",
    "        self.conv2 = nn.Conv2d(in_channels=32, out_channels=64, kernel_size=3, padding=1)\n",
    "        self.pool = nn.MaxPool2d(kernel_size=2, stride=2)\n",
    "        \n",
    "        # Bloco convolucional 2\n",
    "        self.conv3 = nn.Conv2d(in_channels=64, out_channels=128, kernel_size=3, padding=1)\n",
    "        self.conv4 = nn.Conv2d(in_channels=128, out_channels=128, kernel_size=3, padding=1)\n",
    "        \n",
    "        # Camadas totalmente ligadas\n",
    "        self.fc1 = nn.Linear(in_features=128 * 8 * 8, out_features=256)\n",
    "        self.fc2 = nn.Linear(in_features=256, out_features=10)\n",
    "\n",
    "        # Dropout para regularização\n",
    "        self.dropout = nn.Dropout(p=0.25)\n",
    "\n",
    "    def forward(self, x):\n",
    "        x = F.relu(self.conv1(x))\n",
    "        x = F.relu(self.conv2(x))\n",
    "        x = self.pool(x)\n",
    "\n",
    "        x = F.relu(self.conv3(x))\n",
    "        x = F.relu(self.conv4(x))\n",
    "        x = self.pool(x)\n",
    "\n",
    "        x = x.view(x.size(0), -1)  # Flatten\n",
    "        x = self.dropout(F.relu(self.fc1(x)))\n",
    "        x = self.fc2(x)\n",
    "        return x"
   ]
  },
  {
   "cell_type": "markdown",
   "id": "b765df6a",
   "metadata": {},
   "source": [
    "---"
   ]
  },
  {
   "cell_type": "markdown",
   "id": "46f908f6-9c28-4c07-bb2c-c0bd54326f92",
   "metadata": {},
   "source": [
    "# Exercise 4 - Use CIFAR10 Dataset\n",
    "- Same as Exercise 2 but for the CNN arquitecture (model from Exercise 3)\n",
    "\n",
    "- Set the optimizer, loss function and train your model\n",
    "    - Explain your choices for the optimizer and loss function\n",
    "- Check the performance of your model\n",
    "    - Chose the metric and explain your choice"
   ]
  },
  {
   "cell_type": "markdown",
   "id": "6659b967",
   "metadata": {},
   "source": [
    "---"
   ]
  },
  {
   "cell_type": "code",
   "execution_count": 19,
   "id": "f5b72ce1",
   "metadata": {},
   "outputs": [],
   "source": [
    "# Instanciar o modelo\n",
    "model = CNNModelConv().to(device)"
   ]
  },
  {
   "cell_type": "code",
   "execution_count": 20,
   "id": "a4c5a6a3",
   "metadata": {},
   "outputs": [],
   "source": [
    "# Definir a função de perda e o otimizador\n",
    "criterion = nn.CrossEntropyLoss()\n",
    "optimizer = torch.optim.Adam(model.parameters(), lr=0.001)"
   ]
  },
  {
   "cell_type": "code",
   "execution_count": 21,
   "id": "c1f9bca3",
   "metadata": {},
   "outputs": [
    {
     "name": "stdout",
     "output_type": "stream",
     "text": [
      "Epoch 1/10\n",
      "  → Train Loss: 1.3715\n",
      "  → Validation Loss: 1.1002 | Accuracy: 61.68%\n",
      "\n",
      "Epoch 2/10\n",
      "  → Train Loss: 0.9034\n",
      "  → Validation Loss: 0.7962 | Accuracy: 72.14%\n",
      "\n",
      "Epoch 3/10\n",
      "  → Train Loss: 0.7112\n",
      "  → Validation Loss: 0.7063 | Accuracy: 75.28%\n",
      "\n",
      "Epoch 4/10\n",
      "  → Train Loss: 0.5842\n",
      "  → Validation Loss: 0.6925 | Accuracy: 76.22%\n",
      "\n",
      "Epoch 5/10\n",
      "  → Train Loss: 0.4751\n",
      "  → Validation Loss: 0.6748 | Accuracy: 77.60%\n",
      "\n",
      "Epoch 6/10\n",
      "  → Train Loss: 0.3855\n",
      "  → Validation Loss: 0.6947 | Accuracy: 76.89%\n",
      "\n",
      "Epoch 7/10\n",
      "  → Train Loss: 0.3107\n",
      "  → Validation Loss: 0.7247 | Accuracy: 77.82%\n",
      "\n",
      "Epoch 8/10\n",
      "  → Train Loss: 0.2525\n",
      "  → Validation Loss: 0.7824 | Accuracy: 78.06%\n",
      "\n",
      "Epoch 9/10\n",
      "  → Train Loss: 0.2112\n",
      "  → Validation Loss: 0.8613 | Accuracy: 77.24%\n",
      "\n",
      "Epoch 10/10\n",
      "  → Train Loss: 0.1797\n",
      "  → Validation Loss: 0.9472 | Accuracy: 77.17%\n",
      "\n",
      "Training completed!\n"
     ]
    }
   ],
   "source": [
    "train_and_evaluate(model, trainloader, testloader, optimizer, criterion, device, EPOCHS)"
   ]
  },
  {
   "cell_type": "markdown",
   "id": "7ead24ea",
   "metadata": {},
   "source": [
    "Os resultados demonstram que o modelo convolucional apresenta uma evolução significativa nas primeiras epochs de treino, tanto ao nível da redução da perda (loss) como do aumento da precisão sobre o conjunto de validação.\n",
    "\n",
    "Durante as primeiras cinco epochs, há uma melhoria clara: a perda de treino desce de 1.37 para 0.47, e a perda de validação diminui de 1.10 para 0.67, acompanhada por um aumento da precisão de 61.68% para 77.60%. Esta evolução mostra que o modelo está a aprender os padrões do conjunto de dados de forma eficaz, generalizando relativamente bem para os dados de validação.\n",
    "\n",
    "A partir da sexta epoch, embora a perda de treino continue a descer de forma constante (indicando que o modelo continua a ajustar-se aos dados de treino), a perda de validação começa a estabilizar e depois a aumentar ligeiramente, mesmo com uma pequena subida da precisão até ao valor máximo de 78.06% na oitava epoch. Após isso, a precisão estabiliza e até desce ligeiramente, ao passo que a perda de validação continua a subir — terminando nos 0.9472 na décima epoch.\n",
    "\n",
    "Este comportamento é característico de um início de sobreajustamento (overfitting): o modelo continua a melhorar nos dados de treino, mas começa a perder capacidade de generalização nos dados de teste. Isso é natural à medida que o modelo se torna cada vez mais ajustado ao conjunto de treino."
   ]
  },
  {
   "cell_type": "code",
   "execution_count": 22,
   "id": "df54a220",
   "metadata": {},
   "outputs": [
    {
     "name": "stdout",
     "output_type": "stream",
     "text": [
      "\n",
      " Avaliação por classe:\n",
      "  Classe 'plane': 82.80% (828 / 1000)\n",
      "  Classe 'car': 83.10% (831 / 1000)\n",
      "  Classe 'bird': 62.10% (621 / 1000)\n",
      "  Classe 'cat': 60.70% (607 / 1000)\n",
      "  Classe 'deer': 74.70% (747 / 1000)\n",
      "  Classe 'dog': 71.20% (712 / 1000)\n",
      "  Classe 'frog': 78.40% (784 / 1000)\n",
      "  Classe 'horse': 81.80% (818 / 1000)\n",
      "  Classe 'ship': 85.30% (853 / 1000)\n",
      "  Classe 'truck': 91.60% (916 / 1000)\n",
      "\n",
      " Global Accuracy: 77.17%\n",
      " Average Loss: 0.9472\n"
     ]
    }
   ],
   "source": [
    "evaluate_by_class(model, testloader, criterion, device, classes)"
   ]
  },
  {
   "cell_type": "markdown",
   "id": "5f2bb678",
   "metadata": {},
   "source": [
    "Os resultados da avaliação por classe revelam um desempenho muito equilibrado e robusto do modelo convolucional, com uma taxa de precisão global de 77,17% e uma perda média de 0.9472. Estes valores refletem uma capacidade significativa do modelo para generalizar.\n",
    "\n",
    "Analisando classe a classe, observa-se que as categorias com melhor desempenho são 'truck' (91,6%), 'ship' (85,3%), 'car' (83,1%), 'plane' (82,8%) e 'horse' (81,8%). \n",
    "\n",
    "Por outro lado, as classes com menor taxa de precisão — nomeadamente 'bird' (62,1%), 'cat' (60,7%) e 'dog' (71,2%) — são aquelas provavelelmente com maior variabilidade visual e semelhanças entre si, o que pode dificultar a tarefa de classificação. Ainda assim, os valores obtidos nestas classes são positivos e revelam que o modelo consegue extrair padrões relevantes mesmo em categorias mais desafiantes.\n",
    "\n",
    "Destaca-se também o bom equilíbrio entre as classes, com todas as categorias acima dos 60%, o que demonstra que não há enviesamento significativo do modelo para apenas um subconjunto das classes. "
   ]
  },
  {
   "cell_type": "markdown",
   "id": "d23711dc",
   "metadata": {},
   "source": [
    "---"
   ]
  },
  {
   "cell_type": "markdown",
   "id": "b99c8d7a-1808-4715-8fe5-8c1bb5a1e00f",
   "metadata": {},
   "source": [
    "# Exercise 5 - Use Twitter Dataset\n",
    "For the **Text DATA TODO**\n",
    "\n",
    "- Build a Supervised Classification model\n",
    "- Explain your choices for preparing the text for the model"
   ]
  }
 ],
 "metadata": {
  "kernelspec": {
   "display_name": "Python 3",
   "language": "python",
   "name": "python3"
  },
  "language_info": {
   "codemirror_mode": {
    "name": "ipython",
    "version": 3
   },
   "file_extension": ".py",
   "mimetype": "text/x-python",
   "name": "python",
   "nbconvert_exporter": "python",
   "pygments_lexer": "ipython3",
   "version": "3.10.16"
  }
 },
 "nbformat": 4,
 "nbformat_minor": 5
}
